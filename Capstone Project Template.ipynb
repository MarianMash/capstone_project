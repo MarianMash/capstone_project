{
 "cells": [
  {
   "cell_type": "markdown",
   "metadata": {
    "editable": true
   },
   "source": [
    "# Project Title\n",
    "### Data Engineering Capstone Project\n",
    "\n",
    "#### Project Summary\n",
    "--describe your project at a high level--\n",
    "\n",
    "The project follows the follow steps:\n",
    "* Step 1: Scope the Project and Gather Data\n",
    "* Step 2: Explore and Assess the Data\n",
    "* Step 3: Define the Data Model\n",
    "* Step 4: Run ETL to Model the Data\n",
    "* Step 5: Complete Project Write Up"
   ]
  },
  {
   "cell_type": "code",
   "execution_count": 1,
   "metadata": {
    "editable": true
   },
   "outputs": [],
   "source": [
    "# Do all imports and installs here\n",
    "\n",
    "from pyspark.sql import SparkSession, SQLContext, GroupedData\n",
    "from pyspark.sql.functions import *\n",
    "\n",
    "import pandas as pd\n",
    "from configs import *\n",
    "\n",
    "from etl.extracter import Extract\n",
    "from etl.preprocesser import Preprocess\n",
    "from etl.loader import Loader\n",
    "from etl.checker import Quality_Checker\n",
    "\n",
    "\n"
   ]
  },
  {
   "cell_type": "code",
   "execution_count": 2,
   "metadata": {
    "editable": true
   },
   "outputs": [],
   "source": [
    "\n",
    "#Build spark session\n",
    "from pyspark.sql import SparkSession\n",
    "\n",
    "spark = SparkSession.builder.\\\n",
    "config(\"spark.jars.repositories\", \"https://repos.spark-packages.org/\").\\\n",
    "config(\"spark.jars.packages\", \"saurfang:spark-sas7bdat:2.0.0-s_2.11\").\\\n",
    "enableHiveSupport().getOrCreate()"
   ]
  },
  {
   "cell_type": "markdown",
   "metadata": {
    "editable": true
   },
   "source": [
    "### Step 1: Scope the Project and Gather Data\n",
    "\n",
    "#### Scope \n",
    "Explain what you plan to do in the project in more detail. What data do you use? What is your end solution look like? What tools did you use? etc>\n",
    "\n",
    "In this project I will utilize I94 immigration data, world temperature data and US demographic data to build a data warehouse with fact and dimension tables as we learned in the beginning of this degree.\n",
    "\n",
    "Used Datasets:\n",
    "\n",
    "1. I94 Immigration Data\n",
    "2. World Temperature Data\n",
    "3. U.S. City Demographic Data\n",
    "\n",
    "These tools will be used thoughout this project:\n",
    "\n",
    "* AWS S3: data storage\n",
    "* Python for data exploration and preprocessing of sample data sets\n",
    "* PySpark - data processing on large data set\n",
    "\n",
    "\n",
    "#### Describe of Data\n",
    "##### 1. I94 Immigration Data\n",
    " \n",
    "#### and Gather Data \n",
    "Describe the data sets you're using. Where did it come from? What type of information is included? "
   ]
  },
  {
   "cell_type": "code",
   "execution_count": 3,
   "metadata": {
    "editable": true
   },
   "outputs": [],
   "source": [
    "read_1 = Extract(spark, paths)\n",
    "\n",
    "demographics = read_1.read_cities_demographic_raw()\n",
    "immigration_data = read_1.read_immigration_raw()\n",
    "temperature = read_1.read_temperature_raw()\n",
    "airports = read_1.read_airports_raw()\n",
    "#labels = read_1.read_labels_raw()"
   ]
  },
  {
   "cell_type": "code",
   "execution_count": 4,
   "metadata": {
    "editable": true
   },
   "outputs": [
    {
     "name": "stdout",
     "output_type": "stream",
     "text": [
      "+----------+-------------------+-----------------------------+-----+-------+--------+---------+\n",
      "|        dt| AverageTemperature|AverageTemperatureUncertainty| City|Country|Latitude|Longitude|\n",
      "+----------+-------------------+-----------------------------+-----+-------+--------+---------+\n",
      "|1743-11-01|              6.068|           1.7369999999999999|Århus|Denmark|  57.05N|   10.33E|\n",
      "|1743-12-01|               null|                         null|Århus|Denmark|  57.05N|   10.33E|\n",
      "|1744-01-01|               null|                         null|Århus|Denmark|  57.05N|   10.33E|\n",
      "|1744-02-01|               null|                         null|Århus|Denmark|  57.05N|   10.33E|\n",
      "|1744-03-01|               null|                         null|Århus|Denmark|  57.05N|   10.33E|\n",
      "|1744-04-01| 5.7879999999999985|           3.6239999999999997|Århus|Denmark|  57.05N|   10.33E|\n",
      "|1744-05-01|             10.644|           1.2830000000000001|Århus|Denmark|  57.05N|   10.33E|\n",
      "|1744-06-01| 14.050999999999998|                        1.347|Århus|Denmark|  57.05N|   10.33E|\n",
      "|1744-07-01|             16.082|                        1.396|Århus|Denmark|  57.05N|   10.33E|\n",
      "|1744-08-01|               null|                         null|Århus|Denmark|  57.05N|   10.33E|\n",
      "|1744-09-01| 12.780999999999999|                        1.454|Århus|Denmark|  57.05N|   10.33E|\n",
      "|1744-10-01|               7.95|                         1.63|Århus|Denmark|  57.05N|   10.33E|\n",
      "|1744-11-01|  4.638999999999999|           1.3019999999999998|Århus|Denmark|  57.05N|   10.33E|\n",
      "|1744-12-01|0.12199999999999987|                        1.756|Århus|Denmark|  57.05N|   10.33E|\n",
      "|1745-01-01|-1.3330000000000002|                        1.642|Århus|Denmark|  57.05N|   10.33E|\n",
      "|1745-02-01|             -2.732|                        1.358|Århus|Denmark|  57.05N|   10.33E|\n",
      "|1745-03-01|              0.129|                        1.088|Århus|Denmark|  57.05N|   10.33E|\n",
      "|1745-04-01|              4.042|                        1.138|Århus|Denmark|  57.05N|   10.33E|\n",
      "|1745-05-01|               null|                         null|Århus|Denmark|  57.05N|   10.33E|\n",
      "|1745-06-01|               null|                         null|Århus|Denmark|  57.05N|   10.33E|\n",
      "+----------+-------------------+-----------------------------+-----+-------+--------+---------+\n",
      "only showing top 20 rows\n",
      "\n"
     ]
    }
   ],
   "source": [
    "temperature.show()"
   ]
  },
  {
   "cell_type": "code",
   "execution_count": 5,
   "metadata": {
    "editable": true
   },
   "outputs": [
    {
     "name": "stdout",
     "output_type": "stream",
     "text": [
      "+----------------+--------------+----------+---------------+-----------------+----------------+------------------+------------+----------------------+----------+--------------------+------+\n",
      "|            City|         State|Median Age|Male Population|Female Population|Total Population|Number of Veterans|Foreign-born|Average Household Size|State Code|                Race| Count|\n",
      "+----------------+--------------+----------+---------------+-----------------+----------------+------------------+------------+----------------------+----------+--------------------+------+\n",
      "|   Silver Spring|      Maryland|      33.8|          40601|            41862|           82463|              1562|       30908|                   2.6|        MD|  Hispanic or Latino| 25924|\n",
      "|          Quincy| Massachusetts|      41.0|          44129|            49500|           93629|              4147|       32935|                  2.39|        MA|               White| 58723|\n",
      "|          Hoover|       Alabama|      38.5|          38040|            46799|           84839|              4819|        8229|                  2.58|        AL|               Asian|  4759|\n",
      "|Rancho Cucamonga|    California|      34.5|          88127|            87105|          175232|              5821|       33878|                  3.18|        CA|Black or African-...| 24437|\n",
      "|          Newark|    New Jersey|      34.6|         138040|           143873|          281913|              5829|       86253|                  2.73|        NJ|               White| 76402|\n",
      "|          Peoria|      Illinois|      33.1|          56229|            62432|          118661|              6634|        7517|                   2.4|        IL|American Indian a...|  1343|\n",
      "|        Avondale|       Arizona|      29.1|          38712|            41971|           80683|              4815|        8355|                  3.18|        AZ|Black or African-...| 11592|\n",
      "|     West Covina|    California|      39.8|          51629|            56860|          108489|              3800|       37038|                  3.56|        CA|               Asian| 32716|\n",
      "|        O'Fallon|      Missouri|      36.0|          41762|            43270|           85032|              5783|        3269|                  2.77|        MO|  Hispanic or Latino|  2583|\n",
      "|      High Point|North Carolina|      35.5|          51751|            58077|          109828|              5204|       16315|                  2.65|        NC|               Asian| 11060|\n",
      "|          Folsom|    California|      40.9|          41051|            35317|           76368|              4187|       13234|                  2.62|        CA|  Hispanic or Latino|  5822|\n",
      "|          Folsom|    California|      40.9|          41051|            35317|           76368|              4187|       13234|                  2.62|        CA|American Indian a...|   998|\n",
      "|    Philadelphia|  Pennsylvania|      34.1|         741270|           826172|         1567442|             61995|      205339|                  2.61|        PA|               Asian|122721|\n",
      "|         Wichita|        Kansas|      34.6|         192354|           197601|          389955|             23978|       40270|                  2.56|        KS|  Hispanic or Latino| 65162|\n",
      "|         Wichita|        Kansas|      34.6|         192354|           197601|          389955|             23978|       40270|                  2.56|        KS|American Indian a...|  8791|\n",
      "|      Fort Myers|       Florida|      37.3|          36850|            37165|           74015|              4312|       15365|                  2.45|        FL|               White| 50169|\n",
      "|      Pittsburgh|  Pennsylvania|      32.9|         149690|           154695|          304385|             17728|       28187|                  2.13|        PA|               White|208863|\n",
      "|          Laredo|         Texas|      28.8|         124305|           131484|          255789|              4921|       68427|                  3.66|        TX|American Indian a...|  1253|\n",
      "|        Berkeley|    California|      32.5|          60142|            60829|          120971|              3736|       25000|                  2.35|        CA|               Asian| 27089|\n",
      "|     Santa Clara|    California|      35.2|          63278|            62938|          126216|              4426|       52281|                  2.75|        CA|               White| 55847|\n",
      "+----------------+--------------+----------+---------------+-----------------+----------------+------------------+------------+----------------------+----------+--------------------+------+\n",
      "only showing top 20 rows\n",
      "\n"
     ]
    }
   ],
   "source": [
    "demographics.show()\n"
   ]
  },
  {
   "cell_type": "code",
   "execution_count": 6,
   "metadata": {
    "editable": true
   },
   "outputs": [
    {
     "name": "stdout",
     "output_type": "stream",
     "text": [
      "+---------+------+------+------+------+-------+-------+-------+-------+-------+------+-------+-----+--------+--------+-----+-------+-------+-------+-------+-------+--------+------+------+-------+--------------+-----+--------+\n",
      "|    cicid| i94yr|i94mon|i94cit|i94res|i94port|arrdate|i94mode|i94addr|depdate|i94bir|i94visa|count|dtadfile|visapost|occup|entdepa|entdepd|entdepu|matflag|biryear| dtaddto|gender|insnum|airline|        admnum|fltno|visatype|\n",
      "+---------+------+------+------+------+-------+-------+-------+-------+-------+------+-------+-----+--------+--------+-----+-------+-------+-------+-------+-------+--------+------+------+-------+--------------+-----+--------+\n",
      "|5748517.0|2016.0|   4.0| 245.0| 438.0|    LOS|20574.0|    1.0|     CA|20582.0|  40.0|    1.0|  1.0|20160430|     SYD| null|      G|      O|   null|      M| 1976.0|10292016|     F|  null|     QF|9.495387003E10|00011|      B1|\n",
      "|5748518.0|2016.0|   4.0| 245.0| 438.0|    LOS|20574.0|    1.0|     NV|20591.0|  32.0|    1.0|  1.0|20160430|     SYD| null|      G|      O|   null|      M| 1984.0|10292016|     F|  null|     VA|9.495562283E10|00007|      B1|\n",
      "|5748519.0|2016.0|   4.0| 245.0| 438.0|    LOS|20574.0|    1.0|     WA|20582.0|  29.0|    1.0|  1.0|20160430|     SYD| null|      G|      O|   null|      M| 1987.0|10292016|     M|  null|     DL|9.495640653E10|00040|      B1|\n",
      "|5748520.0|2016.0|   4.0| 245.0| 438.0|    LOS|20574.0|    1.0|     WA|20588.0|  29.0|    1.0|  1.0|20160430|     SYD| null|      G|      O|   null|      M| 1987.0|10292016|     F|  null|     DL|9.495645143E10|00040|      B1|\n",
      "|5748521.0|2016.0|   4.0| 245.0| 438.0|    LOS|20574.0|    1.0|     WA|20588.0|  28.0|    1.0|  1.0|20160430|     SYD| null|      G|      O|   null|      M| 1988.0|10292016|     M|  null|     DL|9.495638813E10|00040|      B1|\n",
      "|5748522.0|2016.0|   4.0| 245.0| 464.0|    HHW|20574.0|    1.0|     HI|20579.0|  57.0|    2.0|  1.0|20160430|     ACK| null|      G|      O|   null|      M| 1959.0|10292016|     M|  null|     NZ|9.498180283E10|00010|      B2|\n",
      "|5748523.0|2016.0|   4.0| 245.0| 464.0|    HHW|20574.0|    1.0|     HI|20586.0|  66.0|    2.0|  1.0|20160430|     ACK| null|      G|      O|   null|      M| 1950.0|10292016|     F|  null|     NZ|9.497968993E10|00010|      B2|\n",
      "|5748524.0|2016.0|   4.0| 245.0| 464.0|    HHW|20574.0|    1.0|     HI|20586.0|  41.0|    2.0|  1.0|20160430|     ACK| null|      G|      O|   null|      M| 1975.0|10292016|     F|  null|     NZ|9.497974673E10|00010|      B2|\n",
      "|5748525.0|2016.0|   4.0| 245.0| 464.0|    HOU|20574.0|    1.0|     FL|20581.0|  27.0|    2.0|  1.0|20160430|     ACK| null|      G|      O|   null|      M| 1989.0|10292016|     M|  null|     NZ|9.497324663E10|00028|      B2|\n",
      "|5748526.0|2016.0|   4.0| 245.0| 464.0|    LOS|20574.0|    1.0|     CA|20581.0|  26.0|    2.0|  1.0|20160430|     ACK| null|      G|      O|   null|      M| 1990.0|10292016|     F|  null|     NZ|9.501354793E10|00002|      B2|\n",
      "|5748527.0|2016.0|   4.0| 245.0| 504.0|    NEW|20574.0|    1.0|     MA|20576.0|  44.0|    2.0|  1.0|20160430|     GUZ| null|      G|      O|   null|      M| 1972.0|10292016|     M|  null|     UA|9.493828593E10|01215|      B2|\n",
      "|5748528.0|2016.0|   4.0| 245.0| 504.0|    LOS|20574.0|    1.0|   null|20575.0|  39.0|    2.0|  1.0|20160430|     GUZ| null|      G|      O|   null|      M| 1977.0|10292016|     M|  null|     CM|9.501810463E10|00472|      B2|\n",
      "|5748529.0|2016.0|   4.0| 245.0| 504.0|    WAS|20574.0|    1.0|     VA|20596.0|  38.0|    2.0|  1.0|20160430|     PNM| null|      G|      O|   null|      M| 1978.0|10292016|     M|  null|     CM|9.492489983E10|00488|      B2|\n",
      "|5748530.0|2016.0|   4.0| 245.0| 504.0|    LOS|20574.0|    1.0|     CA|20577.0|  56.0|    2.0|  1.0|20160430|     PNM| null|      G|      O|   null|      M| 1960.0|10292016|     F|  null|     CM|9.492648103E10|00302|      B2|\n",
      "|5748531.0|2016.0|   4.0| 245.0| 504.0|    LOS|20574.0|    1.0|     CA|20577.0|  38.0|    2.0|  1.0|20160430|     PNM| null|      G|      O|   null|      M| 1978.0|10282016|     M|  null|     CM|9.492629303E10|00302|      B2|\n",
      "|5748532.0|2016.0|   4.0| 245.0| 504.0|    MIA|20574.0|    1.0|     FL|20581.0|  53.0|    2.0|  1.0|20160430|     PNM| null|      G|      O|   null|      M| 1963.0|10292016|     F|  null|     CM|9.500640513E10|00430|      B2|\n",
      "|5748534.0|2016.0|   4.0| 245.0| 528.0|    SFR|20574.0|    1.0|     CA|   null|  84.0|    2.0|  1.0|20160430|     HNK| null|      G|   null|   null|   null| 1932.0|10282016|     F|  null|     CX|9.492476223E10|00872|      B2|\n",
      "|5748876.0|2016.0|   4.0| 245.0| 582.0|    HOU|20574.0|    1.0|     TX|20583.0|  43.0|    1.0|  1.0|20160430|     GUZ| null|      G|      O|   null|      M| 1973.0|10292016|     M|  null|     UA|9.499463063E10|05574|      B1|\n",
      "|5748877.0|2016.0|   4.0| 245.0| 582.0|    HOU|20574.0|    1.0|     TX|20583.0|  30.0|    1.0|  1.0|20160430|     GUZ| null|      G|      O|   null|      M| 1986.0|10292016|     F|  null|     UA|9.499447663E10|05574|      B1|\n",
      "|5748881.0|2016.0|   4.0| 245.0| 582.0|    LOS|20574.0|    1.0|     CA|20575.0|  34.0|    2.0|  1.0|20160430|     SHG| null|      G|      O|   null|      M| 1982.0|10292016|     M|  null|     AM|9.496770903E10|00646|      B2|\n",
      "+---------+------+------+------+------+-------+-------+-------+-------+-------+------+-------+-----+--------+--------+-----+-------+-------+-------+-------+-------+--------+------+------+-------+--------------+-----+--------+\n",
      "only showing top 20 rows\n",
      "\n"
     ]
    }
   ],
   "source": [
    "immigration_data.show()"
   ]
  },
  {
   "cell_type": "code",
   "execution_count": 7,
   "metadata": {
    "editable": true
   },
   "outputs": [
    {
     "name": "stdout",
     "output_type": "stream",
     "text": [
      "+-----+-------------+--------------------+------------+---------+-----------+----------+------------+--------+---------+----------+--------------------+\n",
      "|ident|         type|                name|elevation_ft|continent|iso_country|iso_region|municipality|gps_code|iata_code|local_code|         coordinates|\n",
      "+-----+-------------+--------------------+------------+---------+-----------+----------+------------+--------+---------+----------+--------------------+\n",
      "|  00A|     heliport|   Total Rf Heliport|          11|       NA|         US|     US-PA|    Bensalem|     00A|     null|       00A|-74.9336013793945...|\n",
      "| 00AA|small_airport|Aero B Ranch Airport|        3435|       NA|         US|     US-KS|       Leoti|    00AA|     null|      00AA|-101.473911, 38.7...|\n",
      "| 00AK|small_airport|        Lowell Field|         450|       NA|         US|     US-AK|Anchor Point|    00AK|     null|      00AK|-151.695999146, 5...|\n",
      "| 00AL|small_airport|        Epps Airpark|         820|       NA|         US|     US-AL|     Harvest|    00AL|     null|      00AL|-86.7703018188476...|\n",
      "| 00AR|       closed|Newport Hospital ...|         237|       NA|         US|     US-AR|     Newport|    null|     null|      null| -91.254898, 35.6087|\n",
      "| 00AS|small_airport|      Fulton Airport|        1100|       NA|         US|     US-OK|        Alex|    00AS|     null|      00AS|-97.8180194, 34.9...|\n",
      "| 00AZ|small_airport|      Cordes Airport|        3810|       NA|         US|     US-AZ|      Cordes|    00AZ|     null|      00AZ|-112.165000915527...|\n",
      "| 00CA|small_airport|Goldstone /Gts/ A...|        3038|       NA|         US|     US-CA|     Barstow|    00CA|     null|      00CA|-116.888000488, 3...|\n",
      "| 00CL|small_airport| Williams Ag Airport|          87|       NA|         US|     US-CA|       Biggs|    00CL|     null|      00CL|-121.763427, 39.4...|\n",
      "| 00CN|     heliport|Kitchen Creek Hel...|        3350|       NA|         US|     US-CA| Pine Valley|    00CN|     null|      00CN|-116.4597417, 32....|\n",
      "| 00CO|       closed|          Cass Field|        4830|       NA|         US|     US-CO|  Briggsdale|    null|     null|      null|-104.344002, 40.6...|\n",
      "| 00FA|small_airport| Grass Patch Airport|          53|       NA|         US|     US-FL|    Bushnell|    00FA|     null|      00FA|-82.2190017700195...|\n",
      "| 00FD|     heliport|  Ringhaver Heliport|          25|       NA|         US|     US-FL|   Riverview|    00FD|     null|      00FD|-82.3453979492187...|\n",
      "| 00FL|small_airport|   River Oak Airport|          35|       NA|         US|     US-FL|  Okeechobee|    00FL|     null|      00FL|-80.9692001342773...|\n",
      "| 00GA|small_airport|    Lt World Airport|         700|       NA|         US|     US-GA|    Lithonia|    00GA|     null|      00GA|-84.0682983398437...|\n",
      "| 00GE|     heliport|    Caffrey Heliport|         957|       NA|         US|     US-GA|       Hiram|    00GE|     null|      00GE|-84.7339019775390...|\n",
      "| 00HI|     heliport|  Kaupulehu Heliport|          43|       NA|         US|     US-HI| Kailua/Kona|    00HI|     null|      00HI|-155.980233, 19.8...|\n",
      "| 00ID|small_airport|Delta Shores Airport|        2064|       NA|         US|     US-ID|  Clark Fork|    00ID|     null|      00ID|-116.213996887207...|\n",
      "| 00IG|small_airport|       Goltl Airport|        3359|       NA|         US|     US-KS|    McDonald|    00IG|     null|      00IG|-101.395994, 39.7...|\n",
      "| 00II|     heliport|Bailey Generation...|         600|       NA|         US|     US-IN|  Chesterton|    00II|     null|      00II|-87.122802734375,...|\n",
      "+-----+-------------+--------------------+------------+---------+-----------+----------+------------+--------+---------+----------+--------------------+\n",
      "only showing top 20 rows\n",
      "\n"
     ]
    }
   ],
   "source": [
    "airports.show()"
   ]
  },
  {
   "cell_type": "code",
   "execution_count": 8,
   "metadata": {
    "editable": true
   },
   "outputs": [
    {
     "name": "stdout",
     "output_type": "stream",
     "text": [
      "+----------+-------------------+-----------------------------+-----+-------+--------+---------+\n",
      "|        dt| AverageTemperature|AverageTemperatureUncertainty| City|Country|Latitude|Longitude|\n",
      "+----------+-------------------+-----------------------------+-----+-------+--------+---------+\n",
      "|1743-11-01|              6.068|           1.7369999999999999|Århus|Denmark|  57.05N|   10.33E|\n",
      "|1743-12-01|               null|                         null|Århus|Denmark|  57.05N|   10.33E|\n",
      "|1744-01-01|               null|                         null|Århus|Denmark|  57.05N|   10.33E|\n",
      "|1744-02-01|               null|                         null|Århus|Denmark|  57.05N|   10.33E|\n",
      "|1744-03-01|               null|                         null|Århus|Denmark|  57.05N|   10.33E|\n",
      "|1744-04-01| 5.7879999999999985|           3.6239999999999997|Århus|Denmark|  57.05N|   10.33E|\n",
      "|1744-05-01|             10.644|           1.2830000000000001|Århus|Denmark|  57.05N|   10.33E|\n",
      "|1744-06-01| 14.050999999999998|                        1.347|Århus|Denmark|  57.05N|   10.33E|\n",
      "|1744-07-01|             16.082|                        1.396|Århus|Denmark|  57.05N|   10.33E|\n",
      "|1744-08-01|               null|                         null|Århus|Denmark|  57.05N|   10.33E|\n",
      "|1744-09-01| 12.780999999999999|                        1.454|Århus|Denmark|  57.05N|   10.33E|\n",
      "|1744-10-01|               7.95|                         1.63|Århus|Denmark|  57.05N|   10.33E|\n",
      "|1744-11-01|  4.638999999999999|           1.3019999999999998|Århus|Denmark|  57.05N|   10.33E|\n",
      "|1744-12-01|0.12199999999999987|                        1.756|Århus|Denmark|  57.05N|   10.33E|\n",
      "|1745-01-01|-1.3330000000000002|                        1.642|Århus|Denmark|  57.05N|   10.33E|\n",
      "|1745-02-01|             -2.732|                        1.358|Århus|Denmark|  57.05N|   10.33E|\n",
      "|1745-03-01|              0.129|                        1.088|Århus|Denmark|  57.05N|   10.33E|\n",
      "|1745-04-01|              4.042|                        1.138|Århus|Denmark|  57.05N|   10.33E|\n",
      "|1745-05-01|               null|                         null|Århus|Denmark|  57.05N|   10.33E|\n",
      "|1745-06-01|               null|                         null|Århus|Denmark|  57.05N|   10.33E|\n",
      "+----------+-------------------+-----------------------------+-----+-------+--------+---------+\n",
      "only showing top 20 rows\n",
      "\n"
     ]
    }
   ],
   "source": [
    "temperature.show()"
   ]
  },
  {
   "cell_type": "markdown",
   "metadata": {
    "editable": true
   },
   "source": [
    "### Step 2: Explore and Assess the Data\n",
    "#### Explore the Data \n",
    "Identify data quality issues, like missing values, duplicate data, etc.\n",
    "\n",
    "#### Cleaning Steps\n",
    "Document steps necessary to clean the data\n",
    "\n",
    "Main steps were:\n",
    "* Clean and Preprocess immigrantion dataset. Rename columns with understandable names. Put correct formats in dates and select only important columns.\n",
    "* Clean and Preprocess demographics dataset, filling null values withn 0 and grouping by city, state and pivot race to make each race to an own column. Transforming by calculation all totals and ratio specific for each race in state_code granularity\n",
    "* Clean and Preprocess airports dataset by renaming columns and filtering only airports in United States and ignoring anything else that is not an airport. Parse iso regions and rename it to state_code and cast elevation feet as float .\n",
    "* Clean and Preprocess Temperature dataset, joining state_code from demographic table, filtering for US and grouping by date and city"
   ]
  },
  {
   "cell_type": "markdown",
   "metadata": {
    "editable": true
   },
   "source": [
    "##### 1. Immigration (SAS) Dataset"
   ]
  },
  {
   "cell_type": "code",
   "execution_count": 9,
   "metadata": {
    "editable": true
   },
   "outputs": [
    {
     "name": "stdout",
     "output_type": "stream",
     "text": [
      "+-------+----------+---------+--------+-------+--------+------+-------+--------------+---------+---------+---------+----+-------------------+----------------+----+-----+----------+---+-------+------------+--------------+------------+-----------+-------------+\n",
      "| cic_id|state_code|port_code|visapost|matflag| dtaddto|gender|airline|        admnum|flight_nr|visa_type|visa_code|mode|country_origin_code|country_cit_code|year|month|birth_year|age|counter|arrival_date|departure_date|arrival_year|arrival_day|arrival_month|\n",
      "+-------+----------+---------+--------+-------+--------+------+-------+--------------+---------+---------+---------+----+-------------------+----------------+----+-----+----------+---+-------+------------+--------------+------------+-----------+-------------+\n",
      "|5748517|        CA|      LOS|     SYD|      M|10292016|     F|     QF|9.495387003E10|    00011|       B1|        1|   1|                438|             245|2016|    4|      1976| 40|      1|  2016-04-30|    2016-05-08|           4|         30|         2016|\n",
      "|5748518|        NV|      LOS|     SYD|      M|10292016|     F|     VA|9.495562283E10|    00007|       B1|        1|   1|                438|             245|2016|    4|      1984| 32|      1|  2016-04-30|    2016-05-17|           4|         30|         2016|\n",
      "|5748519|        WA|      LOS|     SYD|      M|10292016|     M|     DL|9.495640653E10|    00040|       B1|        1|   1|                438|             245|2016|    4|      1987| 29|      1|  2016-04-30|    2016-05-08|           4|         30|         2016|\n",
      "|5748520|        WA|      LOS|     SYD|      M|10292016|     F|     DL|9.495645143E10|    00040|       B1|        1|   1|                438|             245|2016|    4|      1987| 29|      1|  2016-04-30|    2016-05-14|           4|         30|         2016|\n",
      "|5748521|        WA|      LOS|     SYD|      M|10292016|     M|     DL|9.495638813E10|    00040|       B1|        1|   1|                438|             245|2016|    4|      1988| 28|      1|  2016-04-30|    2016-05-14|           4|         30|         2016|\n",
      "|5748522|        HI|      HHW|     ACK|      M|10292016|     M|     NZ|9.498180283E10|    00010|       B2|        2|   1|                464|             245|2016|    4|      1959| 57|      1|  2016-04-30|    2016-05-05|           4|         30|         2016|\n",
      "|5748523|        HI|      HHW|     ACK|      M|10292016|     F|     NZ|9.497968993E10|    00010|       B2|        2|   1|                464|             245|2016|    4|      1950| 66|      1|  2016-04-30|    2016-05-12|           4|         30|         2016|\n",
      "|5748524|        HI|      HHW|     ACK|      M|10292016|     F|     NZ|9.497974673E10|    00010|       B2|        2|   1|                464|             245|2016|    4|      1975| 41|      1|  2016-04-30|    2016-05-12|           4|         30|         2016|\n",
      "|5748525|        FL|      HOU|     ACK|      M|10292016|     M|     NZ|9.497324663E10|    00028|       B2|        2|   1|                464|             245|2016|    4|      1989| 27|      1|  2016-04-30|    2016-05-07|           4|         30|         2016|\n",
      "|5748526|        CA|      LOS|     ACK|      M|10292016|     F|     NZ|9.501354793E10|    00002|       B2|        2|   1|                464|             245|2016|    4|      1990| 26|      1|  2016-04-30|    2016-05-07|           4|         30|         2016|\n",
      "|5748527|        MA|      NEW|     GUZ|      M|10292016|     M|     UA|9.493828593E10|    01215|       B2|        2|   1|                504|             245|2016|    4|      1972| 44|      1|  2016-04-30|    2016-05-02|           4|         30|         2016|\n",
      "|5748528|      null|      LOS|     GUZ|      M|10292016|     M|     CM|9.501810463E10|    00472|       B2|        2|   1|                504|             245|2016|    4|      1977| 39|      1|  2016-04-30|    2016-05-01|           4|         30|         2016|\n",
      "|5748529|        VA|      WAS|     PNM|      M|10292016|     M|     CM|9.492489983E10|    00488|       B2|        2|   1|                504|             245|2016|    4|      1978| 38|      1|  2016-04-30|    2016-05-22|           4|         30|         2016|\n",
      "|5748530|        CA|      LOS|     PNM|      M|10292016|     F|     CM|9.492648103E10|    00302|       B2|        2|   1|                504|             245|2016|    4|      1960| 56|      1|  2016-04-30|    2016-05-03|           4|         30|         2016|\n",
      "|5748531|        CA|      LOS|     PNM|      M|10282016|     M|     CM|9.492629303E10|    00302|       B2|        2|   1|                504|             245|2016|    4|      1978| 38|      1|  2016-04-30|    2016-05-03|           4|         30|         2016|\n",
      "|5748532|        FL|      MIA|     PNM|      M|10292016|     F|     CM|9.500640513E10|    00430|       B2|        2|   1|                504|             245|2016|    4|      1963| 53|      1|  2016-04-30|    2016-05-07|           4|         30|         2016|\n",
      "|5748534|        CA|      SFR|     HNK|   null|10282016|     F|     CX|9.492476223E10|    00872|       B2|        2|   1|                528|             245|2016|    4|      1932| 84|      1|  2016-04-30|          null|           4|         30|         2016|\n",
      "|5748876|        TX|      HOU|     GUZ|      M|10292016|     M|     UA|9.499463063E10|    05574|       B1|        1|   1|                582|             245|2016|    4|      1973| 43|      1|  2016-04-30|    2016-05-09|           4|         30|         2016|\n",
      "|5748877|        TX|      HOU|     GUZ|      M|10292016|     F|     UA|9.499447663E10|    05574|       B1|        1|   1|                582|             245|2016|    4|      1986| 30|      1|  2016-04-30|    2016-05-09|           4|         30|         2016|\n",
      "|5748881|        CA|      LOS|     SHG|      M|10292016|     M|     AM|9.496770903E10|    00646|       B2|        2|   1|                582|             245|2016|    4|      1982| 34|      1|  2016-04-30|    2016-05-01|           4|         30|         2016|\n",
      "+-------+----------+---------+--------+-------+--------+------+-------+--------------+---------+---------+---------+----+-------------------+----------------+----+-----+----------+---+-------+------------+--------------+------------+-----------+-------------+\n",
      "only showing top 20 rows\n",
      "\n"
     ]
    }
   ],
   "source": [
    "immigration_data_cleaned = Preprocess.get_immigration(immigration_data)\n",
    "immigration_data_cleaned.show()"
   ]
  },
  {
   "cell_type": "markdown",
   "metadata": {
    "editable": true
   },
   "source": [
    "##### Temperature dataset"
   ]
  },
  {
   "cell_type": "code",
   "execution_count": 10,
   "metadata": {
    "editable": true
   },
   "outputs": [
    {
     "name": "stdout",
     "output_type": "stream",
     "text": [
      "+----------+----------+-------+-------------+----+-----+--------+--------------------+\n",
      "|        dt|state_code|   city|      country|year|month|avg_temp|avg_temp_uncertainty|\n",
      "+----------+----------+-------+-------------+----+-----+--------+--------------------+\n",
      "|1833-02-01|        TX|Abilene|United States|1833|    2|    8.37|                2.49|\n",
      "|1837-04-01|        TX|Abilene|United States|1837|    4|   14.15|                1.84|\n",
      "|1870-12-01|        TX|Abilene|United States|1870|   12|    3.95|                2.25|\n",
      "|1886-12-01|        TX|Abilene|United States|1886|   12|    5.71|                1.01|\n",
      "|1891-02-01|        TX|Abilene|United States|1891|    2|    7.67|                 0.9|\n",
      "|1920-03-01|        TX|Abilene|United States|1920|    3|   11.33|                0.63|\n",
      "|1927-12-01|        TX|Abilene|United States|1927|   12|    4.04|                0.57|\n",
      "|1952-05-01|        TX|Abilene|United States|1952|    5|    21.9|                0.36|\n",
      "|1957-01-01|        TX|Abilene|United States|1957|    1|    5.73|                0.23|\n",
      "|1966-02-01|        TX|Abilene|United States|1966|    2|    5.25|                0.22|\n",
      "|1967-10-01|        TX|Abilene|United States|1967|   10|   17.47|                 0.2|\n",
      "|1973-04-01|        TX|Abilene|United States|1973|    4|   13.72|                0.22|\n",
      "|1999-03-01|        TX|Abilene|United States|1999|    3|   11.72|                0.21|\n",
      "|1769-04-01|        OH|  Akron|United States|1769|    4|    8.83|                4.32|\n",
      "|1782-02-01|        OH|  Akron|United States|1782|    2|   -3.66|                3.46|\n",
      "|1785-08-01|        OH|  Akron|United States|1785|    8|   21.74|                2.03|\n",
      "|1788-08-01|        OH|  Akron|United States|1788|    8|   21.83|                1.99|\n",
      "|1801-11-01|        OH|  Akron|United States|1801|   11|    3.67|                1.55|\n",
      "|1825-04-01|        OH|  Akron|United States|1825|    4|    9.89|                2.39|\n",
      "|1848-07-01|        OH|  Akron|United States|1848|    7|   20.98|                2.47|\n",
      "+----------+----------+-------+-------------+----+-----+--------+--------------------+\n",
      "only showing top 20 rows\n",
      "\n"
     ]
    }
   ],
   "source": [
    "temperature_cleaned = Preprocess.get_temperature(temperature,demographics)\n",
    "temperature_cleaned.show()"
   ]
  },
  {
   "cell_type": "markdown",
   "metadata": {
    "editable": true
   },
   "source": [
    "##### Demographic Dataset cleaning and preprocessing"
   ]
  },
  {
   "cell_type": "code",
   "execution_count": 11,
   "metadata": {
    "editable": true
   },
   "outputs": [
    {
     "name": "stdout",
     "output_type": "stream",
     "text": [
      "+----------+--------------------+----------+----------------+---------------+-----------------+----------------------+---------------------------------+-------+-------------------------+------------------+--------+---------------------+-----------------------+---------------------------------------+-----------+-------------------------------+------------------------+-----------+\n",
      "|state_code|               state|median_age|total_population|male_population|female_population|average_household_size|american_indian_and_alaska_native|  asian|black_or_african_american|hispanic_or_latino|   white|male_population_ratio|female_population_ratio|american_indian_and_alaska_native_ratio|asian_ratio|black_or_african_american_ratio|hispanic_or_latino_ratio|white_ratio|\n",
      "+----------+--------------------+----------+----------------+---------------+-----------------+----------------------+---------------------------------+-------+-------------------------+------------------+--------+---------------------+-----------------------+---------------------------------------+-----------+-------------------------------+------------------------+-----------+\n",
      "|        MT|             Montana|      35.5|        181294.0|        87707.0|          93587.0|                  2.28|                             9684|   4165|                     3349|             10000|  169026|                 0.48|                   0.52|                                   0.05|       0.02|                           0.02|                    0.06|       0.93|\n",
      "|        NC|      North Carolina|     33.79|       3060199.0|      1466105.0|        1594094.0|                  2.48|                            35209| 178740|                  1029446|            354409| 1790136|                 0.48|                   0.52|                                   0.01|       0.06|                           0.34|                    0.12|       0.58|\n",
      "|        MD|            Maryland|     36.37|       1312129.0|       627951.0|         684178.0|                  2.66|                            16155| 128839|                   573768|            138644|  594522|                 0.48|                   0.52|                                   0.01|        0.1|                           0.44|                    0.11|       0.45|\n",
      "|        CO|            Colorado|     35.82|       2935669.0|      1454619.0|        1481050.0|                  2.56|                            62613| 148790|                   208043|            703722| 2463916|                  0.5|                    0.5|                                   0.02|       0.05|                           0.07|                    0.24|       0.84|\n",
      "|        CT|         Connecticut|     34.96|        885581.0|       432157.0|         453424.0|                  2.66|                            10729|  48311|                   231822|            309992|  505674|                 0.49|                   0.51|                                   0.01|       0.05|                           0.26|                    0.35|       0.57|\n",
      "|        IL|            Illinois|     35.85|       4562312.0|      2218541.0|        2343771.0|                  2.72|                            35097| 374589|                  1130574|           1215659| 2620068|                 0.49|                   0.51|                                   0.01|       0.08|                           0.25|                    0.27|       0.57|\n",
      "|        NJ|          New Jersey|     35.13|       1428908.0|       705736.0|         723172.0|                  2.97|                            11350| 116844|                   452202|            600437|  615083|                 0.49|                   0.51|                                   0.01|       0.08|                           0.32|                    0.42|       0.43|\n",
      "|        DE|            Delaware|      36.4|         71957.0|        32680.0|          39277.0|                  2.45|                              414|   1193|                    44182|              5516|   23743|                 0.45|                   0.55|                                   0.01|       0.02|                           0.61|                    0.08|       0.33|\n",
      "|        DC|District of Columbia|      33.8|        672228.0|       319705.0|         352523.0|                  2.24|                             6130|  35072|                   328786|             71129|  285402|                 0.48|                   0.52|                                   0.01|       0.05|                           0.49|                    0.11|       0.42|\n",
      "|        LA|           Louisiana|     34.63|       1300595.0|       626998.0|         673597.0|                  2.47|                             8263|  38739|                   602377|             87133|  654578|                 0.48|                   0.52|                                   0.01|       0.03|                           0.46|                    0.07|        0.5|\n",
      "|        TN|           Tennessee|      34.4|       2152560.0|      1031836.0|        1120724.0|                  2.47|                            17638|  73024|                   810758|            167962| 1253142|                 0.48|                   0.52|                                   0.01|       0.03|                           0.38|                    0.08|       0.58|\n",
      "|        AR|            Arkansas|     32.77|        589879.0|       286479.0|         303400.0|                  2.53|                             9381|  22062|                   149608|             77813|  384733|                 0.49|                   0.51|                                   0.02|       0.04|                           0.25|                    0.13|       0.65|\n",
      "|        AK|              Alaska|      32.2|        298695.0|       152945.0|         145750.0|                  2.77|                            36339|  36825|                    23107|             27261|  212696|                 0.51|                   0.49|                                   0.12|       0.12|                           0.08|                    0.09|       0.71|\n",
      "|        CA|          California|     36.18|      2.482246E7|    1.2278281E7|      1.2544179E7|                   3.1|                           401386|4543730|                  2047009|           9856464|14905129|                 0.49|                   0.51|                                   0.02|       0.18|                           0.08|                     0.4|        0.6|\n",
      "|        NM|          New Mexico|     37.78|        839042.0|       409010.0|         430032.0|                  2.59|                            42428|  32658|                    35853|            417026|  651564|                 0.49|                   0.51|                                   0.05|       0.04|                           0.04|                     0.5|       0.78|\n",
      "|        UT|                Utah|     30.98|       1050591.0|       530818.0|         519773.0|                  3.18|                            18746|  48801|                    21893|            201695|  889798|                 0.51|                   0.49|                                   0.02|       0.05|                           0.02|                    0.19|       0.85|\n",
      "|        MI|            Michigan|     37.04|       2203460.0|      1056446.0|        1147014.0|                  2.51|                            27962| 125172|                   853877|            149932| 1214721|                 0.48|                   0.52|                                   0.01|       0.06|                           0.39|                    0.07|       0.55|\n",
      "|        NY|            New York|     35.66|       9815626.0|      4692055.0|        5123571.0|                  2.76|                           112816|1373373|                  2605008|           2730185| 4555686|                 0.48|                   0.52|                                   0.01|       0.14|                           0.27|                    0.28|       0.46|\n",
      "|        NH|       New Hampshire|      37.8|        198198.0|        97771.0|         100427.0|                  2.43|                             1213|  13989|                    11043|             22473|  174085|                 0.49|                   0.51|                                   0.01|       0.07|                           0.06|                    0.11|       0.88|\n",
      "|        WA|          Washington|     35.29|       2500107.0|      1245605.0|        1254502.0|                   2.6|                            60248| 346995|                   187584|            324070| 1913484|                  0.5|                    0.5|                                   0.02|       0.14|                           0.08|                    0.13|       0.77|\n",
      "+----------+--------------------+----------+----------------+---------------+-----------------+----------------------+---------------------------------+-------+-------------------------+------------------+--------+---------------------+-----------------------+---------------------------------------+-----------+-------------------------------+------------------------+-----------+\n",
      "only showing top 20 rows\n",
      "\n"
     ]
    }
   ],
   "source": [
    "demographics_cleaned = Preprocess.get_cities_demographics(demographics)\n",
    "demographics_cleaned.show()"
   ]
  },
  {
   "cell_type": "markdown",
   "metadata": {
    "editable": true
   },
   "source": [
    "##### Airport cleaning"
   ]
  },
  {
   "cell_type": "code",
   "execution_count": 12,
   "metadata": {
    "editable": true
   },
   "outputs": [
    {
     "name": "stdout",
     "output_type": "stream",
     "text": [
      "+----------+-------------+--------------------+------------+---------+-----------+------------+--------+---------+----------+----------+\n",
      "|airport_id|         type|        airport_name|elevation_ft|continent|iso_country|municipality|gps_code|iata_code|local_code|state_code|\n",
      "+----------+-------------+--------------------+------------+---------+-----------+------------+--------+---------+----------+----------+\n",
      "|      00AA|small_airport|Aero B Ranch Airport|      3435.0|       NA|         US|       Leoti|    00AA|     null|      00AA|        KS|\n",
      "|      00AK|small_airport|        Lowell Field|       450.0|       NA|         US|Anchor Point|    00AK|     null|      00AK|        AK|\n",
      "|      00AL|small_airport|        Epps Airpark|       820.0|       NA|         US|     Harvest|    00AL|     null|      00AL|        AL|\n",
      "|      00AS|small_airport|      Fulton Airport|      1100.0|       NA|         US|        Alex|    00AS|     null|      00AS|        OK|\n",
      "|      00AZ|small_airport|      Cordes Airport|      3810.0|       NA|         US|      Cordes|    00AZ|     null|      00AZ|        AZ|\n",
      "|      00CA|small_airport|Goldstone /Gts/ A...|      3038.0|       NA|         US|     Barstow|    00CA|     null|      00CA|        CA|\n",
      "|      00CL|small_airport| Williams Ag Airport|        87.0|       NA|         US|       Biggs|    00CL|     null|      00CL|        CA|\n",
      "|      00FA|small_airport| Grass Patch Airport|        53.0|       NA|         US|    Bushnell|    00FA|     null|      00FA|        FL|\n",
      "|      00FL|small_airport|   River Oak Airport|        35.0|       NA|         US|  Okeechobee|    00FL|     null|      00FL|        FL|\n",
      "|      00GA|small_airport|    Lt World Airport|       700.0|       NA|         US|    Lithonia|    00GA|     null|      00GA|        GA|\n",
      "|      00ID|small_airport|Delta Shores Airport|      2064.0|       NA|         US|  Clark Fork|    00ID|     null|      00ID|        ID|\n",
      "|      00IG|small_airport|       Goltl Airport|      3359.0|       NA|         US|    McDonald|    00IG|     null|      00IG|        KS|\n",
      "|      00IL|small_airport|      Hammer Airport|       840.0|       NA|         US|        Polo|    00IL|     null|      00IL|        IL|\n",
      "|      00IS|small_airport|Hayenga's Cant Fi...|       820.0|       NA|         US|       Kings|    00IS|     null|      00IS|        IL|\n",
      "|      00KS|small_airport| Hayden Farm Airport|      1100.0|       NA|         US|     Gardner|    00KS|     null|      00KS|        KS|\n",
      "|      00KY|small_airport|Robbins Roost Air...|      1265.0|       NA|         US|    Stanford|    00KY|     null|      00KY|        KY|\n",
      "|      00LS|small_airport|     Lejeune Airport|        12.0|       NA|         US|   Esterwood|    00LS|     null|      00LS|        LA|\n",
      "|      00MD|small_airport|        Slater Field|        45.0|       NA|         US|Federalsburg|    00MD|     null|      00MD|        MD|\n",
      "|      00MN|small_airport|Battle Lake Munic...|      1365.0|       NA|         US| Battle Lake|    00MN|     null|      00MN|        MN|\n",
      "|      00MO|small_airport|Cooper Flying Ser...|       970.0|       NA|         US|        Alba|    00MO|     null|      00MO|        MO|\n",
      "+----------+-------------+--------------------+------------+---------+-----------+------------+--------+---------+----------+----------+\n",
      "only showing top 20 rows\n",
      "\n"
     ]
    }
   ],
   "source": [
    "airports_cleaned = Preprocess.get_airports(airports)\n",
    "airports_cleaned.show()"
   ]
  },
  {
   "cell_type": "markdown",
   "metadata": {
    "editable": true
   },
   "source": [
    "### Step 3: Define the Data Model\n",
    "#### 3.1 Conceptual Data Model\n",
    "Map out the conceptual data model and explain why you chose that model\n",
    "\n",
    "For the DWH a star schema was choosen.This schema forms a star with fact table and dimension tables.\n",
    "\n",
    "The tables:\n",
    "\n",
    "##### Fact:\n",
    "\n",
    "**Immigration Fact Table** - contains US immigration data\n",
    "> **cic_id, __state_code__, port_code, visapost, matflag, dtaddto, gender, airline, admnum, flight_nr, visa_type, visa_code, mode, country_origin_code, country_cit_code, year, month, birth_year, age, counter, arrival_date, departure_date, arrival_year, arrival_month, arrival_day**\n",
    "\n",
    "##### Dimension:\n",
    "**Demographic Dataset** - contains information about demograhic population, race and ratios\n",
    "> **__state_code__, state, median_age, total_population, male_population, female_population, average_household_size, american_indian_and_alaska_native, asian, black_or_african_american, hispanic_or_latino, white, male_population_ratio, female_population_ratio, american_indian_and_alaska_native_ratio, asian_ratio, black_or_african_american_ratio, hispanic_or_latino_ratio, white_ratio'**\n",
    "\n",
    "**Airpot Table** - contains information about United States Airports \n",
    ">  **airport_id, type, airport_name, elevation_ft, continent, iso_country, __state_code__, municipality, gps_code, iata_code, local_code, local_code**\n",
    "\n",
    "**Temperature Dataset** - contains information about Temperature on a date and US State granularity\n",
    "> **dt, city, country, __state_code__, year, month, avg_temp, avg_temp_uncertainty**\n",
    " \n",
    "#### 3.2 Mapping Out Data Pipelines\n",
    "List the steps necessary to pipeline the data into the chosen data model\n",
    "> The previous step made sure, that all requirements for a star schema are fullfilled, because all dimension tables contain state_code hence all tables are connectable.\n",
    "> Furthermore immigration can now be partitioned by year,month and day (related to arrival date)."
   ]
  },
  {
   "cell_type": "markdown",
   "metadata": {
    "editable": true
   },
   "source": [
    "### Step 4: Run Pipelines to Model the Data \n",
    "#### 4.1 Create the data model\n",
    "Build the data pipelines to create the data model.\n",
    "\n",
    "1. Run `create_tables.py` to create database and tables\n",
    "2. Load data"
   ]
  },
  {
   "cell_type": "code",
   "execution_count": 13,
   "metadata": {
    "editable": true
   },
   "outputs": [],
   "source": [
    "pipeline = Loader( paths_load, spark )\n",
    "pipeline.load(immigration_data_cleaned,demographics_cleaned,airports_cleaned,temperature_cleaned) "
   ]
  },
  {
   "cell_type": "code",
   "execution_count": null,
   "metadata": {
    "editable": true
   },
   "outputs": [],
   "source": []
  },
  {
   "cell_type": "markdown",
   "metadata": {
    "editable": true
   },
   "source": [
    "#### 4.2 Data Quality Checks\n",
    "Explain the data quality checks you'll perform to ensure the pipeline ran as expected. These could include:\n",
    " * Integrity constraints on the relational database (e.g., unique key, data type, etc.)\n",
    " * Unit tests for the scripts to ensure they are doing the right thing\n",
    " * Source/Count checks to ensure completeness\n",
    " \n",
    "Run Quality Checks"
   ]
  },
  {
   "cell_type": "code",
   "execution_count": 14,
   "metadata": {
    "editable": true
   },
   "outputs": [],
   "source": [
    "quality_check = Quality_Checker(spark, paths_load)\n"
   ]
  },
  {
   "cell_type": "code",
   "execution_count": 15,
   "metadata": {
    "editable": true
   },
   "outputs": [],
   "source": [
    "final_immigration = quality_check.get_immigration()\n",
    "final_demographics = quality_check.get_demographics()\n",
    "final_airports = quality_check.get_airports()\n",
    "final_temperature = quality_check.get_temperature()"
   ]
  },
  {
   "cell_type": "code",
   "execution_count": 16,
   "metadata": {
    "editable": true
   },
   "outputs": [
    {
     "name": "stdout",
     "output_type": "stream",
     "text": [
      "Table: immigration is not empty: total 3096313 records.\n",
      "Table: demographics is not empty: total 49 records.\n",
      "Table: airports is not empty: total 14582 records.\n",
      "Table: temperature is not empty: total 700526 records.\n"
     ]
    }
   ],
   "source": [
    "quality_check.empty_check(final_immigration,paths_load[\"immigration_load\"])\n",
    "quality_check.empty_check(final_demographics,paths_load[\"demographics_load\"])\n",
    "quality_check.empty_check(final_airports,paths_load[\"airports_load\"])\n",
    "quality_check.empty_check(final_temperature,paths_load[\"temperature_load\"])"
   ]
  },
  {
   "cell_type": "code",
   "execution_count": 17,
   "metadata": {
    "editable": true
   },
   "outputs": [
    {
     "name": "stdout",
     "output_type": "stream",
     "text": [
      "Table: immigration has no duplicates!\n"
     ]
    }
   ],
   "source": [
    "quality_check.duplicate_check(final_immigration,paths_load[\"immigration_load\"])\n"
   ]
  },
  {
   "cell_type": "code",
   "execution_count": 18,
   "metadata": {
    "editable": true
   },
   "outputs": [
    {
     "name": "stdout",
     "output_type": "stream",
     "text": [
      "Table: demographics has no duplicates!\n"
     ]
    }
   ],
   "source": [
    "quality_check.duplicate_check(final_demographics,paths_load[\"demographics_load\"])"
   ]
  },
  {
   "cell_type": "code",
   "execution_count": 19,
   "metadata": {
    "editable": true
   },
   "outputs": [
    {
     "name": "stdout",
     "output_type": "stream",
     "text": [
      "Table: airports has no duplicates!\n"
     ]
    }
   ],
   "source": [
    "quality_check.duplicate_check(final_airports,paths_load[\"airports_load\"])"
   ]
  },
  {
   "cell_type": "code",
   "execution_count": 20,
   "metadata": {
    "editable": true
   },
   "outputs": [
    {
     "name": "stdout",
     "output_type": "stream",
     "text": [
      "Table: temperature has no duplicates!\n"
     ]
    }
   ],
   "source": [
    "quality_check.duplicate_check(final_temperature,paths_load[\"temperature_load\"])"
   ]
  },
  {
   "cell_type": "code",
   "execution_count": 21,
   "metadata": {
    "editable": true
   },
   "outputs": [
    {
     "name": "stdout",
     "output_type": "stream",
     "text": [
      "Demographics star connection works: True!  \n",
      "Airport star connection works: True! \n",
      "Temperature star connection works: False\n"
     ]
    }
   ],
   "source": [
    "quality_check.validate_star(final_immigration, final_demographics,final_airports,final_temperature)"
   ]
  },
  {
   "cell_type": "markdown",
   "metadata": {
    "editable": true
   },
   "source": [
    "#### 4.3 Data dictionary \n",
    "Create a data dictionary for your data model. For each field, provide a brief description of what the data is and where it came from. You can include the data dictionary in the notebook or in a separate file."
   ]
  },
  {
   "cell_type": "markdown",
   "metadata": {
    "editable": true
   },
   "source": [
    "### Data Dictionary\n",
    "\n",
    "#### Immigration Data\n",
    "> **cic_id**: integer (nullable = true) - CIC ID\n",
    "\n",
    "> **state_code**:  string (nullable = true) - US State code\n",
    "\n",
    "> **port_code**:  string (nullable = true) - Airport code\n",
    "\n",
    "> **visapost**:  string (nullable = true) - Department of State where where Visa was issued\n",
    "\n",
    "> **matflag**:  string (nullable = true) - Match of arrival and departure records\n",
    "\n",
    "> **dtaddto**: string (nullable = true) - CDate to which admitted to U.S. (allowance of stay)\n",
    "\n",
    "> **gender**:  string (nullable = true) - Gender\n",
    "\n",
    "> **airline**:  string (nullable = true) - Airline code\n",
    "\n",
    "> **admnum**:  double (nullable = true) - Admission Number\n",
    "\n",
    "> **flight_nr**:  string (nullable = true) - Flight number of Airline used to arrive in U.S.\n",
    "\n",
    "> **visa_type**:  string (nullable = true) - Class of admission legally admitting the non-immigrant to temporarily stay in U.S\n",
    "\n",
    "> **visa_code**:  integer (nullable = true) - Visa code\n",
    "\n",
    "> **mode**:  integer (nullable = true) - Mode code\n",
    "\n",
    "> **country_origin_code**:  integer (nullable = true) - Country code of origin \n",
    "\n",
    "> **country_cit_code**:  integer (nullable = true) - City code of origin\n",
    "\n",
    "> **year**: integer (nullable = true) - Year\n",
    "\n",
    "> **month**: integer (nullable = true) - Month\n",
    "\n",
    "> **bird_year**: integer (nullable = true) - Year of Birth\n",
    "\n",
    "> **age**: integer (nullable = true) - Age\n",
    "\n",
    "> **counter**: integer (nullable = true) - ?\n",
    "\n",
    "> **arrival_date**: date (nullable = true) - Arrival date\n",
    "\n",
    "> **departure_date**: date (nullable = true) - Departure Date\n",
    "\n",
    "> **arrival_year**: integer (nullable = true) - Arrival year (_Derived column_)\n",
    "\n",
    "> **arrival_month**: integer (nullable = true) - Arrival month (_Derived column_)\n",
    "\n",
    "> **arrival_day**: integer (nullable = true) - Arrival day of the month (_Derived column_)\n",
    "\n",
    "#### Temperature Data\n",
    "> **dt**: date (nullable = true) - Date timestamp\n",
    "\n",
    "> **state_code**: string (nullable = true) - State code\n",
    "\n",
    "> **city**: string (nullable = true) - City name\n",
    "\n",
    "> **country** : string (nullable = true) - Country name\n",
    "\n",
    "> **year** : integer  (nullable = true) - Year of dt\n",
    "\n",
    "> **month** iso_country: integer  (nullable = true) - Month of dt\n",
    "\n",
    "> **avg_temp** : double (nullable = true) - Average temperature\n",
    "\n",
    "> **avg_temp_uncertainty** : double (nullable = true) - Average temperature uncertainty\n",
    "\n",
    "#### U.S. Demographic by Stategranularity\n",
    "> **state_code** : string (nullable = true)- State code\n",
    "\n",
    "> **state** : string (nullable = true)-State name\n",
    "\n",
    "> **median_age** : double (nullable = true) - median of age\n",
    "\n",
    "> **total_population** : double (nullable = true) - Total population of the state \n",
    "\n",
    "> **male_population** : double (nullable = true)- Total Male population per state\n",
    "\n",
    "> **female_population** : double (nullable = true)- Total Female population per state\n",
    "\n",
    "> **average_household_size** : double (nullable = true)- Average size of the household\n",
    "\n",
    "> **american_indian_and_alaska_native** : long (nullable = true) - Total American Indian and Alaska Native population per state (_Derived column_)\n",
    "\n",
    "> **asian** : long (nullable = true) - Total Asian population per state (_Derived column_)\n",
    "\n",
    "> **black_or_african_american** : long (nullable = true) - Total Black or African-American population per state (_Derived column_)\n",
    "\n",
    "> **hispanic_or_latino** : long (nullable = true) - Total Hispanic or Latino population per state (_Derived column_)\n",
    "\n",
    "> **white** : long (nullable = true) - Total White population per state (_Derived column_)\n",
    "\n",
    "> **male_population_ratio** : double (nullable = true) - Male population ratio per state (_Derived column_)\n",
    "\n",
    "> **female_population_ratio** : double (nullable = true) - Female population ratio per state (_Derived column_)\n",
    "\n",
    "> **american_indian_and_alaska_native_ratio** : double (nullable = true) - Black or African-American population ratio per state (_Derived column_)\n",
    "\n",
    "> **asian_ratio** : double (nullable = true) - Asian population ratio per state (_Derived column_)\n",
    "\n",
    "> **black_or_african_american_ratio** : double (nullable = true) - Black or African-American population ratio per state (_Derived column_)\n",
    "\n",
    "> **hispanic_or_latino_ratio** : double (nullable = true) - Hispanic or Latino population ratio per state (_Derived column_)\n",
    "\n",
    "> **white_ratio** : double (nullable = true) - White population ratio per state (_Derived column_)\n",
    "\n",
    "#### Airports Data\n",
    "> **airport_id**: string (nullable = true) - Airport id\n",
    "\n",
    "> **type**: string (nullable = true) - Airport size\n",
    "\n",
    "> **name**: string (nullable = true) - name\n",
    "\n",
    "> **elevation_ft** : float (nullable = true) - elevation in feet\n",
    "\n",
    "> **continent** : string (nullable = true) - continet\n",
    "\n",
    "> **iso_country** iso_country: string (nullable = true) - country (ISO-2)\n",
    "\n",
    "> **municipality** : string (nullable = true) - municipality\n",
    "\n",
    "> **gps_code** : string (nullable = true) - gps code\n",
    "\n",
    "> **iata_code** : string (nullable = true) - IATA code\n",
    "\n",
    "> **local_code** : string (nullable = true) - Local code\n",
    "\n",
    "> **state_code** : string (nullable = true) - State (ISO-2)\n",
    "\n"
   ]
  },
  {
   "cell_type": "markdown",
   "metadata": {
    "editable": true
   },
   "source": [
    "#### Step 5: Complete Project Write Up\n",
    "* Clearly state the rationale for the choice of tools and technologies for the project.\n",
    "* Propose how often the data should be updated and why.\n",
    "* Write a description of how you would approach the problem differently under the following scenarios:\n",
    " * The data was increased by 100x.\n",
    " * The data populates a dashboard that must be updated on a daily basis by 7am every day.\n",
    " * The database needed to be accessed by 100+ people."
   ]
  }
 ],
 "metadata": {
  "kernelspec": {
   "display_name": "Python 3",
   "language": "python",
   "name": "python3"
  },
  "language_info": {
   "codemirror_mode": {
    "name": "ipython",
    "version": 3
   },
   "file_extension": ".py",
   "mimetype": "text/x-python",
   "name": "python",
   "nbconvert_exporter": "python",
   "pygments_lexer": "ipython3",
   "version": "3.6.3"
  }
 },
 "nbformat": 4,
 "nbformat_minor": 4
}
